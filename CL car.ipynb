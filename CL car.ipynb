{
 "cells": [
  {
   "cell_type": "code",
   "execution_count": 14,
   "metadata": {},
   "outputs": [
    {
     "name": "stdout",
     "output_type": "stream",
     "text": [
      "<class 'bs4.element.ResultSet'>\n",
      "120\n"
     ]
    }
   ],
   "source": [
    "#import get to call a get request on the site\n",
    "from requests import get\n",
    "\n",
    "#get the first page of the east bay cars+truck \n",
    "response = get('https://sfbay.craigslist.org/search/eby/cto?hasPic=1') \n",
    "#URL is including post with images and sold by owner\n",
    "\n",
    "from bs4 import BeautifulSoup\n",
    "html_soup = BeautifulSoup(response.text, 'html.parser')\n",
    "\n",
    "#get the macro-container for the car cost\n",
    "posts = html_soup.find_all('li', class_= 'result-row')\n",
    "print(type(posts)) #to double check that I got a ResultSet\n",
    "print(len(posts)) #to double check I got 120 (elements/page)"
   ]
  },
  {
   "cell_type": "code",
   "execution_count": 15,
   "metadata": {},
   "outputs": [],
   "source": [
    "#grab the first post\n",
    "post_one = posts[0]"
   ]
  },
  {
   "cell_type": "code",
   "execution_count": 16,
   "metadata": {},
   "outputs": [
    {
     "data": {
      "text/plain": [
       "'$10,800'"
      ]
     },
     "execution_count": 16,
     "metadata": {},
     "output_type": "execute_result"
    }
   ],
   "source": [
    "#grab the price of the first post\n",
    "post_one_price = post_one.a.text\n",
    "post_one_price.strip()"
   ]
  },
  {
   "cell_type": "code",
   "execution_count": 17,
   "metadata": {},
   "outputs": [
    {
     "name": "stdout",
     "output_type": "stream",
     "text": [
      "2020-11-02 22:43\n"
     ]
    }
   ],
   "source": [
    "#grab the time and datetime it was posted\n",
    "post_one_time = post_one.find('time', class_= 'result-date')\n",
    "post_one_datetime = post_one_time['datetime']\n",
    "\n",
    "print (post_one_time['datetime'])"
   ]
  },
  {
   "cell_type": "code",
   "execution_count": 18,
   "metadata": {},
   "outputs": [],
   "source": [
    "#title is a and that class, link is grabbing the href attribute of that variable\n",
    "post_one_title = post_one.find('a', class_='result-title hdrlnk')\n",
    "post_one_link = post_one_title['href']\n",
    "\n",
    "#easy to grab the post title by taking the text element of the title variable\n",
    "post_one_title_text = post_one_title.text"
   ]
  },
  {
   "cell_type": "code",
   "execution_count": 19,
   "metadata": {
    "scrolled": true
   },
   "outputs": [
    {
     "name": "stdout",
     "output_type": "stream",
     "text": [
      "2013 Chevy 3500HD flatbed Single cab V/8\n",
      "https://sfbay.craigslist.org/eby/cto/d/dublin-2013-chevy-3500hd-flatbed-single/7224674437.html\n",
      "<li class=\"result-row\" data-pid=\"7224674437\">\n",
      "<a class=\"result-image gallery\" data-ids=\"3:00Z0Z_am9PQOkccCj_0CI0t2,3:00q0q_kVqW3Lcu8xJ_0CI0t2,3:00C0C_7ekXHqkYj7a_0CI0t2,3:00f0f_ioOBgLPJytq_0CI0t2,3:01515_4ZQK0cnKe4S_0CI0t2,3:00A0A_6AK0LDoHtWg_0CI0t2,3:00x0x_7gOcCZESCZy_0CI0t2,3:00h0h_6XzH97dsTMK_0CI0t2\" href=\"https://sfbay.craigslist.org/eby/cto/d/dublin-2013-chevy-3500hd-flatbed-single/7224674437.html\">\n",
      "<span class=\"result-price\">$10,800</span>\n",
      "</a>\n",
      "<div class=\"result-info\">\n",
      "<span class=\"icon icon-star\" role=\"button\">\n",
      "<span class=\"screen-reader-text\">favorite this post</span>\n",
      "</span>\n",
      "<time class=\"result-date\" datetime=\"2020-11-02 22:43\" title=\"Mon 02 Nov 10:43:54 PM\">Nov  2</time>\n",
      "<h3 class=\"result-heading\">\n",
      "<a class=\"result-title hdrlnk\" data-id=\"7224674437\" href=\"https://sfbay.craigslist.org/eby/cto/d/dublin-2013-chevy-3500hd-flatbed-single/7224674437.html\" id=\"postid_7224674437\">2013 Chevy 3500HD flatbed Single cab V/8</a>\n",
      "</h3>\n",
      "<span class=\"result-meta\">\n",
      "<span class=\"result-price\">$10,800</span>\n",
      "<span class=\"result-hood\"> (dublin / pleasanton / livermore)</span>\n",
      "<span class=\"result-tags\">\n",
      "<span class=\"pictag\">pic</span>\n",
      "</span>\n",
      "<span class=\"banish icon icon-trash\" role=\"button\">\n",
      "<span class=\"screen-reader-text\">hide this posting</span>\n",
      "</span>\n",
      "<span aria-hidden=\"true\" class=\"unbanish icon icon-trash red\" role=\"button\"></span>\n",
      "<a class=\"restore-link\" href=\"#\">\n",
      "<span class=\"restore-narrow-text\">restore</span>\n",
      "<span class=\"restore-wide-text\">restore this posting</span>\n",
      "</a>\n",
      "</span>\n",
      "</div>\n",
      "</li>\n"
     ]
    }
   ],
   "source": [
    "print(post_one_title.text)\n",
    "print (post_one_link)\n",
    "print (post_one)"
   ]
  },
  {
   "cell_type": "code",
   "execution_count": null,
   "metadata": {},
   "outputs": [],
   "source": [
    "#grabs the whole segment of housing details. We will need missing value handling in the loop as this kind of detail is not common in posts\n",
    "#the text can be split, and we can use indexing to grab the elements we want. number of bedrooms is the first element.\n",
    "#sqft is the third element\n",
    "\n",
    "post_one_num_bedrooms = post_one.find('span', class_ = 'housing').text.split()[0]\n",
    "\n",
    "post_one_sqft = post_one.find('span', class_ = 'housing').text.split()[2][:-3] #cleans the ft2 at the end\n",
    "\n",
    "post_one_hood = posts[0].find('span', class_='result-hood').text #grabs the neighborhood, this is the problem column that requires\n",
    "#a lot of cleaning and figuring out later."
   ]
  }
 ],
 "metadata": {
  "kernelspec": {
   "display_name": "Python 3",
   "language": "python",
   "name": "python3"
  },
  "language_info": {
   "codemirror_mode": {
    "name": "ipython",
    "version": 3
   },
   "file_extension": ".py",
   "mimetype": "text/x-python",
   "name": "python",
   "nbconvert_exporter": "python",
   "pygments_lexer": "ipython3",
   "version": "3.8.3"
  }
 },
 "nbformat": 4,
 "nbformat_minor": 4
}
